{
 "cells": [
  {
   "cell_type": "markdown",
   "metadata": {},
   "source": [
    "# 31. 금광"
   ]
  },
  {
   "cell_type": "code",
   "execution_count": 7,
   "metadata": {},
   "outputs": [
    {
     "name": "stdout",
     "output_type": "stream",
     "text": [
      "2\n",
      "3 4\n",
      "1 3 3 2 2 1 4 1 0 6 4 7\n",
      "RESULT :  19\n",
      "4 4\n",
      "1 3 1 5 2 2 4 1 5 0 2 3 0 6 1 2\n",
      "RESULT :  16\n"
     ]
    }
   ],
   "source": [
    "T = int(input())\n",
    "\n",
    "for _ in range(T):\n",
    "    n, m = list(map(int, input().split()))\n",
    "    datas = list(map(int, input().split()))\n",
    "    \n",
    "    # make table\n",
    "    table = [ [] for i in range(n) ]\n",
    "    for row in range(n):\n",
    "        table[row] = datas[ row*m : (row+1)*m ]\n",
    "        \n",
    "    # init DP\n",
    "    # [행][열]이 아닌, [열][행]으로 생성\n",
    "    dp = [ [0]*n for i in range(m) ]\n",
    "    for row in range(n):\n",
    "        dp[0][row] = table[row][0]\n",
    "\n",
    "    for col in range(1, m):\n",
    "        for row in range(n):\n",
    "            pre = [ dp[col-1][row] ]\n",
    "            if row-1 >= 0: pre.append( dp[col-1][row-1] )\n",
    "            if row+1 < n: pre.append( dp[col-1][row+1] )\n",
    "            \n",
    "            dp[col][row] = table[row][col] + max(pre)\n",
    "        \n",
    "    print( \"RESULT : \", max(dp[m-1]) )"
   ]
  },
  {
   "cell_type": "markdown",
   "metadata": {},
   "source": [
    "# 32. 정수 삼각형\n",
    "* https://www.acmicpc.net/problem/1932"
   ]
  },
  {
   "cell_type": "code",
   "execution_count": null,
   "metadata": {},
   "outputs": [],
   "source": [
    "# 1932번: 정수 삼각형\n",
    "n = int(input())\n",
    "datas = [ list(map(int, input().split())) for i in range(n) ]\n",
    "    \n",
    "dp = [ [0]*n for i in range(n) ]\n",
    "dp[0][0] = datas[0][0]\n",
    "\n",
    "for depth in range(1, n):\n",
    "    # 양 끝점은 상위의 끝점 하나에만 연결 가능\n",
    "    dp[depth][0] = datas[depth][0] + dp[depth-1][0]\n",
    "    dp[depth][depth] = datas[depth][depth] + dp[depth-1][depth-1]\n",
    "    \n",
    "    for index in range(1, depth):\n",
    "        dp[depth][index] = datas[depth][index] + max( dp[depth-1][index-1], dp[depth-1][index] )\n",
    "        \n",
    "print( max(dp[n-1]) )"
   ]
  },
  {
   "cell_type": "markdown",
   "metadata": {},
   "source": [
    "# 33. 퇴사\n",
    "* https://www.acmicpc.net/problem/14501"
   ]
  },
  {
   "cell_type": "code",
   "execution_count": null,
   "metadata": {},
   "outputs": [],
   "source": [
    "# 14501번: 퇴사\n",
    "N = int(input())\n",
    "dp = [ [0 for i in range(N+2)] for j in range(N+1) ]\n",
    "tpData = [ list(map(int, input().split())) for i in range(N) ]\n",
    "\n",
    "i = 0\n",
    "for t, p in tpData:\n",
    "    i += 1\n",
    "    end = i + t\n",
    "    if end >= N+2:\n",
    "        dp[i] = dp[i-1]\n",
    "        continue\n",
    "    \n",
    "    for j in range(1, end):\n",
    "        dp[ i ][ j ] = max( [dp[i-1][j], dp[i][j-1]] )\n",
    "        \n",
    "    dp[i][end] = max( [dp[i][i]+p, dp[i-1][end], dp[i][end-1] ] )\n",
    "    \n",
    "    for j in range(end+1, N+2):\n",
    "        dp[ i ][ j ] = max( [dp[i-1][j], dp[i][j-1]] )\n",
    "        \n",
    "print(dp[-1][-1])"
   ]
  },
  {
   "cell_type": "markdown",
   "metadata": {},
   "source": [
    "# 34. 병사 배치하기\n",
    "* https://www.acmicpc.net/problem/18353"
   ]
  },
  {
   "cell_type": "code",
   "execution_count": null,
   "metadata": {},
   "outputs": [],
   "source": [
    "# 18353번: 병사 배치하기\n",
    "# 최장 감소 수열 구하는 것과 똑같음\n",
    "N = int(input())\n",
    "datas = list(map(int, input().split()))\n",
    "dp = [datas[0]]\n",
    "for data in datas[1:]:\n",
    "    # 맨 뒤의 값보다 새로운 값이 작다면, 그냥 추가\n",
    "    if dp[-1] > data: dp.append( data )\n",
    "    else:\n",
    "        for index in range( len(dp)-1, -1, -1 ):\n",
    "            if dp[index] > data: \n",
    "                dp[index+1] = data\n",
    "                break\n",
    "            elif dp[index] == data:\n",
    "                break\n",
    "        if index==0 and dp[index] < data:\n",
    "            dp[index] = data\n",
    "print( N-len(dp) )"
   ]
  },
  {
   "cell_type": "markdown",
   "metadata": {},
   "source": [
    "# 35. 못생긴 수"
   ]
  },
  {
   "cell_type": "code",
   "execution_count": 9,
   "metadata": {},
   "outputs": [
    {
     "name": "stdout",
     "output_type": "stream",
     "text": [
      "1000\n",
      "51200000\n"
     ]
    }
   ],
   "source": [
    "n = int(input())\n",
    "\n",
    "count = 0\n",
    "result = 1\n",
    "while True:\n",
    "    tmp = result\n",
    "    while tmp%2==0: tmp //= 2\n",
    "    while tmp%3==0: tmp //= 3\n",
    "    while tmp%5==0: tmp //= 5\n",
    "        \n",
    "    if tmp == 1: \n",
    "        count += 1\n",
    "        if count == n:\n",
    "            break\n",
    "    result += 1\n",
    "    \n",
    "print( result )"
   ]
  },
  {
   "cell_type": "markdown",
   "metadata": {},
   "source": [
    "# 36. 편집 거리"
   ]
  },
  {
   "cell_type": "code",
   "execution_count": 16,
   "metadata": {},
   "outputs": [
    {
     "name": "stdout",
     "output_type": "stream",
     "text": [
      "sunday\n",
      "saturday\n",
      "3\n"
     ]
    }
   ],
   "source": [
    "A, B = ['']+list(input()), ['']+list(input())\n",
    "dp = [ [0 for i in range( len(B) )] for i in range(len(A)) ]\n",
    "\n",
    "for i in range(len(A)):\n",
    "    dp[i][0] = i\n",
    "for j in range(len(B)):\n",
    "    dp[0][j] = j\n",
    "\n",
    "for i in range(1, len(A)):\n",
    "    for j in range(1, len(B)):\n",
    "        if A[i] == B[j]:\n",
    "            dp[i][j] = dp[i-1][j-1]\n",
    "        else:\n",
    "            dp[i][j] = 1 + min( dp[i-1][j], dp[i][j-1], dp[i-1][j-1] )\n",
    "            # dp[i-1][j] : 현재 보고있는 문자열을 삭제함, 지금보다 한칸 짧은 B의 문자열 cost + 1\n",
    "            # dp[i][j-1] : 현재 보고있는 문자을 삽입, 지금보다 한칸 짧은 A의 문자열 cost + 1\n",
    "            # dp[i-1][j-1] : 문자를 교체하는 cost\n",
    "    \n",
    "print( dp[len(A)-1][len(B)-1] )"
   ]
  }
 ],
 "metadata": {
  "kernelspec": {
   "display_name": "Python 3",
   "language": "python",
   "name": "python3"
  },
  "language_info": {
   "codemirror_mode": {
    "name": "ipython",
    "version": 3
   },
   "file_extension": ".py",
   "mimetype": "text/x-python",
   "name": "python",
   "nbconvert_exporter": "python",
   "pygments_lexer": "ipython3",
   "version": "3.7.6"
  }
 },
 "nbformat": 4,
 "nbformat_minor": 4
}
