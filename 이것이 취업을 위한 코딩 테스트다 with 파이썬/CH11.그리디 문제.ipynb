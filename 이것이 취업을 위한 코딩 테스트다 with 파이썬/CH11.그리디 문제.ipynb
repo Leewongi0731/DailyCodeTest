{
 "cells": [
  {
   "cell_type": "markdown",
   "metadata": {},
   "source": [
    "# 1. 모험가 길드"
   ]
  },
  {
   "cell_type": "code",
   "execution_count": null,
   "metadata": {},
   "outputs": [],
   "source": []
  },
  {
   "cell_type": "markdown",
   "metadata": {},
   "source": [
    "# 2.곱하기 혹은 더하기"
   ]
  },
  {
   "cell_type": "code",
   "execution_count": null,
   "metadata": {},
   "outputs": [],
   "source": []
  },
  {
   "cell_type": "markdown",
   "metadata": {},
   "source": [
    "# 3. 문자열 뒤집기\n",
    "* https://www.acmicpc.net/problem/1439"
   ]
  },
  {
   "cell_type": "code",
   "execution_count": 16,
   "metadata": {},
   "outputs": [
    {
     "name": "stdout",
     "output_type": "stream",
     "text": [
      "010101\n",
      "3\n"
     ]
    }
   ],
   "source": [
    "# 1439번: 뒤집기\n",
    "S = list(input())\n",
    "changeCount = 0\n",
    "for i in range(1, len(S)):\n",
    "    if S[i] != S[i-1]:\n",
    "        changeCount += 1\n",
    "        \n",
    "if changeCount % 2 == 1:\n",
    "    print( changeCount // 2 + 1 )\n",
    "else:\n",
    "    print( changeCount // 2 )"
   ]
  },
  {
   "cell_type": "markdown",
   "metadata": {},
   "source": [
    "# 4. 만들 수 없는 금액"
   ]
  },
  {
   "cell_type": "code",
   "execution_count": null,
   "metadata": {},
   "outputs": [],
   "source": []
  },
  {
   "cell_type": "markdown",
   "metadata": {},
   "source": [
    "# 5. 볼링공 고르기"
   ]
  },
  {
   "cell_type": "code",
   "execution_count": null,
   "metadata": {},
   "outputs": [],
   "source": []
  },
  {
   "cell_type": "markdown",
   "metadata": {},
   "source": [
    "# 6. 무지의 먹방 라이브\n",
    "* https://programmers.co.kr/learn/courses/30/lessons/42891\n",
    "* 풀이 아이디어\n",
    "* 문제 조건에서 k가 최대 2 x 10^13로 k만큼 loop를 도는 알고리즘으로는 해결할 수가 없음\n",
    "* 1. 음식 리스트에서 각 몇 초걸리는지 갯수를 count함\n",
    "* 2. minHeap에 음식먹는 시간을 갯수와 함께 저장하여 사용함\n",
    "* 3. k가 남은 음식 중 가장 빨리먹을 수 있는 음식을 다 먹을만큼 크다면, k값을 해당음식을 다 먹고 첫번째 음식으로 돌아오는 것\n",
    "* 4. 만약, k가 남은 음식 중 가장 빨리먹을 수 있는 음식을 다 먹지 못하는 값이라면, 남음 음식 길이로 나누고 몇 번째 음식에서 정전이 일어나는지 찾음"
   ]
  },
  {
   "cell_type": "code",
   "execution_count": 55,
   "metadata": {},
   "outputs": [],
   "source": [
    "# 2019 카카오 공채: 무지의 먹방 라이브\n",
    "from collections import Counter\n",
    "import heapq\n",
    "\n",
    "def solution(food_times, k):\n",
    "    result = 1\n",
    "    counter =  Counter( food_times )\n",
    "    heap = []\n",
    "    for key in counter.keys():\n",
    "        heapq.heappush( heap, [ key, counter[key] ] )\n",
    "    \n",
    "    length = len( food_times )\n",
    "    beforMinValue = 0\n",
    "    while True:\n",
    "        # 더이상 먹을 것이 없음\n",
    "        if len( heap ) == 0: \n",
    "            result = -1\n",
    "            break\n",
    "\n",
    "        # k가 남은 음식 중 가장 빨리먹을 수 있는 음식을 다 먹을만큼 크다면, k값을 해당음식을 다 먹고 첫번째 음식으로 돌아옴\n",
    "        minValue, valueCount = heapq.heappop( heap )\n",
    "        if k - length * (minValue - beforMinValue) >= 0:\n",
    "            k -= length * (minValue - beforMinValue)\n",
    "            beforMinValue = minValue\n",
    "            length -= valueCount\n",
    "            \n",
    "        # k가 남은 음식 중 가장 빨리먹을 수 있는 음식을 다 먹지 못하는 값이라면, 남음 음식 길이로 나누고 몇 번째 음식에서 정전이 일어나는지 찾음\n",
    "        else:\n",
    "            k %= length\n",
    "            for i, time in enumerate( food_times ):\n",
    "                if time >= minValue:\n",
    "                    if k == 0: break # 정전이 일어나기 직전 먹던 음식이 아닌, 정전 후에 먹을 음식을 찾는 것이므로 0체크를 먼저함\n",
    "                    k -= 1\n",
    "            result = i + 1 # 결과는 index가 아닌 \"몇 번째\"를 묻는 것이므로 +1를 함\n",
    "            break\n",
    "    \n",
    "    return result"
   ]
  }
 ],
 "metadata": {
  "kernelspec": {
   "display_name": "Python 3",
   "language": "python",
   "name": "python3"
  },
  "language_info": {
   "codemirror_mode": {
    "name": "ipython",
    "version": 3
   },
   "file_extension": ".py",
   "mimetype": "text/x-python",
   "name": "python",
   "nbconvert_exporter": "python",
   "pygments_lexer": "ipython3",
   "version": "3.7.1"
  }
 },
 "nbformat": 4,
 "nbformat_minor": 4
}
