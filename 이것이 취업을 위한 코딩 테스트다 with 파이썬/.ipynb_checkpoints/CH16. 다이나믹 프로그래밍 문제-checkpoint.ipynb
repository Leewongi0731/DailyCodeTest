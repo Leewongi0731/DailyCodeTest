{
 "cells": [
  {
   "cell_type": "markdown",
   "metadata": {},
   "source": [
    "# 31. 금광"
   ]
  },
  {
   "cell_type": "code",
   "execution_count": null,
   "metadata": {},
   "outputs": [],
   "source": []
  },
  {
   "cell_type": "markdown",
   "metadata": {},
   "source": [
    "# 32. 정수 삼각형\n",
    "* https://www.acmicpc.net/problem/1932"
   ]
  },
  {
   "cell_type": "code",
   "execution_count": null,
   "metadata": {},
   "outputs": [],
   "source": [
    "# 1932번: 정수 삼각형\n",
    "n = int(input())\n",
    "datas = [ list(map(int, input().split())) for i in range(n) ]\n",
    "    \n",
    "dp = [ [0]*n for i in range(n) ]\n",
    "dp[0][0] = datas[0][0]\n",
    "\n",
    "for depth in range(1, n):\n",
    "    # 양 끝점은 상위의 끝점 하나에만 연결 가능\n",
    "    dp[depth][0] = datas[depth][0] + dp[depth-1][0]\n",
    "    dp[depth][depth] = datas[depth][depth] + dp[depth-1][depth-1]\n",
    "    \n",
    "    for index in range(1, depth):\n",
    "        dp[depth][index] = datas[depth][index] + max( dp[depth-1][index-1], dp[depth-1][index] )\n",
    "        \n",
    "print( max(dp[n-1]) )"
   ]
  },
  {
   "cell_type": "markdown",
   "metadata": {},
   "source": [
    "# 33. 퇴사\n",
    "* https://www.acmicpc.net/problem/14501"
   ]
  },
  {
   "cell_type": "code",
   "execution_count": null,
   "metadata": {},
   "outputs": [],
   "source": [
    "# 14501번: 퇴사\n",
    "N = int(input())\n",
    "dp = [ [0 for i in range(N+2)] for j in range(N+1) ]\n",
    "tpData = [ list(map(int, input().split())) for i in range(N) ]\n",
    "\n",
    "i = 0\n",
    "for t, p in tpData:\n",
    "    i += 1\n",
    "    end = i + t\n",
    "    if end >= N+2:\n",
    "        dp[i] = dp[i-1]\n",
    "        continue\n",
    "    \n",
    "    for j in range(1, end):\n",
    "        dp[ i ][ j ] = max( [dp[i-1][j], dp[i][j-1]] )\n",
    "        \n",
    "    dp[i][end] = max( [dp[i][i]+p, dp[i-1][end], dp[i][end-1] ] )\n",
    "    \n",
    "    for j in range(end+1, N+2):\n",
    "        dp[ i ][ j ] = max( [dp[i-1][j], dp[i][j-1]] )\n",
    "        \n",
    "print(dp[-1][-1])"
   ]
  },
  {
   "cell_type": "markdown",
   "metadata": {},
   "source": [
    "# 34. 병사 배치하기\n",
    "* https://www.acmicpc.net/problem/18353"
   ]
  },
  {
   "cell_type": "code",
   "execution_count": null,
   "metadata": {},
   "outputs": [],
   "source": [
    "# 18353번: 병사 배치하기\n",
    "# 최장 감소 수열 구하는 것과 똑같음\n",
    "N = int(input())\n",
    "datas = list(map(int, input().split()))\n",
    "dp = [datas[0]]\n",
    "for data in datas[1:]:\n",
    "    # 맨 뒤의 값보다 새로운 값이 작다면, 그냥 추가\n",
    "    if dp[-1] > data: dp.append( data )\n",
    "    else:\n",
    "        for index in range( len(dp)-1, -1, -1 ):\n",
    "            if dp[index] > data: \n",
    "                dp[index+1] = data\n",
    "                break\n",
    "            elif dp[index] == data:\n",
    "                break\n",
    "        if index==0 and dp[index] < data:\n",
    "            dp[index] = data\n",
    "print( N-len(dp) )"
   ]
  },
  {
   "cell_type": "markdown",
   "metadata": {},
   "source": [
    "# 35. 못생긴 수"
   ]
  },
  {
   "cell_type": "code",
   "execution_count": null,
   "metadata": {},
   "outputs": [],
   "source": []
  },
  {
   "cell_type": "markdown",
   "metadata": {},
   "source": [
    "# 36. 편집 거리"
   ]
  },
  {
   "cell_type": "code",
   "execution_count": null,
   "metadata": {},
   "outputs": [],
   "source": []
  }
 ],
 "metadata": {
  "kernelspec": {
   "display_name": "Python 3",
   "language": "python",
   "name": "python3"
  },
  "language_info": {
   "codemirror_mode": {
    "name": "ipython",
    "version": 3
   },
   "file_extension": ".py",
   "mimetype": "text/x-python",
   "name": "python",
   "nbconvert_exporter": "python",
   "pygments_lexer": "ipython3",
   "version": "3.7.1"
  }
 },
 "nbformat": 4,
 "nbformat_minor": 4
}
