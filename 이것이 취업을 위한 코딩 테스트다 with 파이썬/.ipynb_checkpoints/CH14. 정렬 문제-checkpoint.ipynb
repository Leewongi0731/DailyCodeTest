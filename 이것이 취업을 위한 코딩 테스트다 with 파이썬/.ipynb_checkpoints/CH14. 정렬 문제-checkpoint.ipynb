{
 "cells": [
  {
   "cell_type": "markdown",
   "metadata": {},
   "source": [
    "# 23. 국영수\n",
    "* https://www.acmicpc.net/problem/10825"
   ]
  },
  {
   "cell_type": "code",
   "execution_count": null,
   "metadata": {},
   "outputs": [],
   "source": [
    "# 10825번: 국영수\n",
    "import heapq\n",
    "N = int(input())\n",
    "heap = []\n",
    "for i in range(N):\n",
    "    # 이름, 국어, 영어, 수학 점수\n",
    "    name, kor, eng, math = input().split() \n",
    "    \n",
    "    heapq.heappush( heap, [ -int(kor),   # 국어 MAX HEAP\n",
    "                           int(eng),     # 영어 MIN HEAP\n",
    "                           -int(math),   # 수학 MAX HEAP\n",
    "                           name          # 이름 MIN HEAP\n",
    "                          ] )\n",
    "while heap:\n",
    "    top = heapq.heappop( heap )\n",
    "    print( top[3] ) # 이름 출력"
   ]
  },
  {
   "cell_type": "markdown",
   "metadata": {},
   "source": [
    "# 24. 안테나\n",
    "* https://www.acmicpc.net/problem/18310"
   ]
  },
  {
   "cell_type": "code",
   "execution_count": null,
   "metadata": {},
   "outputs": [],
   "source": [
    "# 18310번: 안테나\n",
    "N = int(input())\n",
    "datas = list(map(int, input().split()))\n",
    "datas = sorted( datas )\n",
    "result = datas[0]\n",
    "if N > 1:\n",
    "    leftSum = 0\n",
    "    rightSum = sum(datas) - (datas[0])*N\n",
    "    minLen = leftSum + rightSum\n",
    "    for start in range(1, N):\n",
    "        gap = datas[start]-datas[start-1]\n",
    "        \n",
    "        leftSum += gap*(start)\n",
    "        rightSum -= gap*(N-start)\n",
    "        \n",
    "        length = leftSum + rightSum\n",
    "        if minLen > length:\n",
    "            minLen = length\n",
    "            result = datas[start]\n",
    "print( result )"
   ]
  },
  {
   "cell_type": "markdown",
   "metadata": {},
   "source": [
    "# 25. 실패율\n",
    "* https://programmers.co.kr/learn/courses/30/lessons/42889"
   ]
  },
  {
   "cell_type": "code",
   "execution_count": null,
   "metadata": {},
   "outputs": [],
   "source": [
    "# 2019 카카오 공채: 실패율\n",
    "def solution(N, stages):\n",
    "    answer = []\n",
    "    \n",
    "    count_array = [ 0 for i in range(N+2) ]\n",
    "    for item in stages:\n",
    "        count_array[item]+=1\n",
    "    \n",
    "    total_number = 0\n",
    "    for i in range( N+1, 0, -1 ):\n",
    "        total_number += count_array[i]\n",
    "        if total_number == 0:  count_array[i] = 0\n",
    "        else: count_array[i] = count_array[i] / total_number\n",
    "    \n",
    "    while( len(answer) != N ):\n",
    "        \n",
    "        top_fail_rate = -1\n",
    "        save_stage = []\n",
    "        for i in range(1, N+1):\n",
    "            if count_array[i] > top_fail_rate:\n",
    "                save_stage = []\n",
    "                save_stage.append(i)\n",
    "                top_fail_rate = count_array[i]\n",
    "            elif count_array[i] == top_fail_rate:\n",
    "                save_stage.append(i)\n",
    "                \n",
    "        for i in save_stage:\n",
    "            answer.append(i)\n",
    "            count_array[i] = -999\n",
    "\n",
    "        if len(answer) == N: break\n",
    "    \n",
    "    return answer"
   ]
  },
  {
   "cell_type": "markdown",
   "metadata": {},
   "source": [
    "# 26. 카드 정렬하기\n",
    "* https://www.acmicpc.net/problem/1715"
   ]
  },
  {
   "cell_type": "code",
   "execution_count": null,
   "metadata": {},
   "outputs": [],
   "source": [
    "# 1715번: 카드 정렬하기\n",
    "import heapq\n",
    "\n",
    "N = int(input())\n",
    "heap = []\n",
    "for i in range(N):\n",
    "    heapq.heappush( heap, int(input()) )\n",
    "    \n",
    "result = 0\n",
    "while len(heap)>1:\n",
    "    d1 = heapq.heappop(heap)\n",
    "    d2 = heapq.heappop(heap)\n",
    "    result += d1 + d2\n",
    "    heapq.heappush( heap, d1+d2 )\n",
    "print( result )"
   ]
  }
 ],
 "metadata": {
  "kernelspec": {
   "display_name": "Python 3",
   "language": "python",
   "name": "python3"
  },
  "language_info": {
   "codemirror_mode": {
    "name": "ipython",
    "version": 3
   },
   "file_extension": ".py",
   "mimetype": "text/x-python",
   "name": "python",
   "nbconvert_exporter": "python",
   "pygments_lexer": "ipython3",
   "version": "3.7.6"
  }
 },
 "nbformat": 4,
 "nbformat_minor": 4
}
