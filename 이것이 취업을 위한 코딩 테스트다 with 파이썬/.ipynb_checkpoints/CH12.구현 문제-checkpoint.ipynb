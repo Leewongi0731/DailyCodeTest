{
 "cells": [
  {
   "cell_type": "markdown",
   "metadata": {},
   "source": [
    "# 7. 럭키 스트레이트\n",
    "* https://www.acmicpc.net/problem/18406"
   ]
  },
  {
   "cell_type": "code",
   "execution_count": 3,
   "metadata": {},
   "outputs": [
    {
     "name": "stdout",
     "output_type": "stream",
     "text": [
      "7755\n",
      "READY\n"
     ]
    }
   ],
   "source": [
    "N = list( map(int, list(input())) )\n",
    "front_sum = sum( N[:len(N)//2] )\n",
    "back_sum = sum( N[len(N)//2:] )\n",
    "\n",
    "if front_sum == back_sum: print( \"LUCKY\" )\n",
    "else: print( \"READY\" )"
   ]
  },
  {
   "cell_type": "markdown",
   "metadata": {},
   "source": [
    "# 8. 문자열 재정렬"
   ]
  },
  {
   "cell_type": "code",
   "execution_count": null,
   "metadata": {},
   "outputs": [],
   "source": []
  },
  {
   "cell_type": "markdown",
   "metadata": {},
   "source": [
    "# 9. 문자열 압축\n",
    "* https://programmers.co.kr/learn/courses/30/lessons/60057\n",
    "* 풀이 아이디어\n",
    "* 1. 입력으로 들어오는 문자열을 1부터 문자열 길이//2 까지 나누었을때의 각 문자열길이를 모두 측정함\n",
    "* 2. 각 splitNum마다의 문자열 길이를 빠르게 측정하기 위해 check bit를 두어, 이미 앞자리에서 안맞는 문자들은 비교하지 않음\n",
    "* 3. 해당 splitNum이 최소값보다 작게 압축되었다면, 최소값을 변경함\n",
    "* ex) s = \"0123456666\"\n",
    "* splitNum 1 => splitData = [ \"0123456666\" ] => check = [ 0, 0, 0, 0, 0, 0, 1, 1, 1, 0 ] => result = 8\n",
    "* splitNum 2 => splitData = [ \"02466\", \"13566\" ] => check = [0, 0, 0, 1, 0] => result = 9\n",
    "* splitNum 3 => splitData = [ \"0366\", \"146\", \"256\" ] => check = [0, 0, 0] => result = 10\n",
    "* splitNum 4 => splitData = [ \"046\", \"156\", \"26\", \"36\" ] => check = [0, 0] => result = 10\n",
    "* splitNum 5 => splitData = [ \"05\", \"16\", \"26\", \"36\", \"46\" ] => check = [0, 0] => result = 10\n",
    "* 가장 짧은 것은 splitNum = 1, return 8"
   ]
  },
  {
   "cell_type": "code",
   "execution_count": 13,
   "metadata": {},
   "outputs": [],
   "source": [
    "# 2020 카카오 공채: 문자열 압축\n",
    "def solution(s):\n",
    "    answer = len(s) # 최대치로 설정\n",
    "\n",
    "    for splitNum in range( 1, len(s)//2+1 ):\n",
    "        check = [ 1 for _ in range( len(s)//splitNum) ]\n",
    "        check[-1] = 0\n",
    "        splitDatas = [ s[i::splitNum] for i in range(splitNum) ]\n",
    "        \n",
    "        for splitData in splitDatas:\n",
    "            for i in range( len(check)-1 ):\n",
    "                if check[i] == 1 and splitData[i] != splitData[i+1]:\n",
    "                    check[i] = 0\n",
    "        \n",
    "        tmp = len(s) % splitNum # 묶일 수 없는 뒷 자리 남은 갯수\n",
    "        sequenceCount = 1 # 반복하는 갯수\n",
    "        for i in range(len(check)):\n",
    "            if check[i] == 1:  sequenceCount += 1\n",
    "            else:\n",
    "                if sequenceCount != 1: tmp += len( str(sequenceCount) )\n",
    "                sequenceCount = 1\n",
    "                tmp += splitNum\n",
    "                \n",
    "        answer = min( answer, tmp )\n",
    "        \n",
    "    return answer"
   ]
  },
  {
   "cell_type": "markdown",
   "metadata": {},
   "source": [
    "# 10. 자물쇠와 열쇠"
   ]
  },
  {
   "cell_type": "code",
   "execution_count": null,
   "metadata": {},
   "outputs": [],
   "source": []
  },
  {
   "cell_type": "markdown",
   "metadata": {},
   "source": [
    "# 11. 뱀\n",
    "* https://www.acmicpc.net/problem/3190"
   ]
  },
  {
   "cell_type": "code",
   "execution_count": 15,
   "metadata": {},
   "outputs": [
    {
     "name": "stdout",
     "output_type": "stream",
     "text": [
      "6\n",
      "3\n",
      "3 4\n",
      "2 5\n",
      "5 3\n",
      "3\n",
      "3 D\n",
      "15 L\n",
      "17 D\n",
      "9\n"
     ]
    }
   ],
   "source": [
    "# 3190번: 뱀\n",
    "from collections import deque\n",
    "N = int(input())\n",
    "K = int(input())\n",
    "\n",
    "graph = [ [0 for i in range(N)] for j in range(N) ]\n",
    "for _ in range(K):\n",
    "    i, j = list(map(int, input().split()))\n",
    "    graph[i-1][j-1] = 1\n",
    "\n",
    "L = int(input())\n",
    "events = [ [] for i in range(L)]\n",
    "for i in range(L):\n",
    "    x, c = input().split()\n",
    "    x = int(x)\n",
    "    events[ i ] = [x, c]\n",
    "eventIndex = 0\n",
    "\n",
    "mx = [-1,1,0,0]\n",
    "my = [0,0,-1,1]\n",
    "changeL = [ 2, 3, 1, 0 ]\n",
    "changeD = [ 3, 2, 0, 1 ]\n",
    "sec = 0\n",
    "snake = deque()\n",
    "snake.append( [0,0] )\n",
    "nowDire = 3\n",
    "\n",
    "while True:\n",
    "    if eventIndex < L and events[ eventIndex ][ 0 ] == sec:\n",
    "        if events[ eventIndex ][ 1 ] == \"L\":\n",
    "            nowDire = changeL[ nowDire ]\n",
    "        else: \n",
    "            nowDire = changeD[ nowDire ]\n",
    "        eventIndex += 1\n",
    "        \n",
    "    sec += 1\n",
    "    nextHeadPosI = snake[0][0] + mx[nowDire]\n",
    "    nextHeadPosJ = snake[0][1] + my[nowDire]\n",
    "    nextPos = [nextHeadPosI, nextHeadPosJ]\n",
    "    if nextHeadPosI < 0 or nextHeadPosJ < 0 or nextHeadPosI >= N or nextHeadPosJ >= N or nextPos in snake:\n",
    "        break\n",
    "    \n",
    "    if graph[ nextHeadPosI ][ nextHeadPosJ ] == 0: # no eat apple\n",
    "        snake.pop()\n",
    "    else:\n",
    "        graph[ nextHeadPosI ][ nextHeadPosJ ] = 0\n",
    "    snake.appendleft( nextPos )\n",
    "    \n",
    "print( sec )"
   ]
  },
  {
   "cell_type": "markdown",
   "metadata": {},
   "source": [
    "# 12. 기둥과 보 설치"
   ]
  },
  {
   "cell_type": "code",
   "execution_count": null,
   "metadata": {},
   "outputs": [],
   "source": []
  },
  {
   "cell_type": "markdown",
   "metadata": {},
   "source": [
    "# 13. 치킨배달\n",
    "* https://www.acmicpc.net/problem/15686"
   ]
  },
  {
   "cell_type": "code",
   "execution_count": null,
   "metadata": {},
   "outputs": [],
   "source": [
    "# 15686번: 치킨 배달\n",
    "from itertools import combinations\n",
    "import heapq\n",
    "import copy\n",
    "\n",
    "N, M = list( map( int, input().split() ) )\n",
    "house, chicken = [], []\n",
    "for i in range(N):\n",
    "    tmp = list( map( int, input().split() ) )\n",
    "    for j in range(N):\n",
    "        if tmp[j] == 1: house.append( [i, j] )\n",
    "        if tmp[j] == 2: chicken.append( [i, j] )\n",
    "\n",
    "length = [ [ 0 for i in range(len(chicken)) ] for i in range(len(house)) ]\n",
    "baseHeap = [ [] for i in range(len(house)) ]\n",
    "for i, h in enumerate( house ):\n",
    "    for j, c in enumerate( chicken ):\n",
    "        length[i][j] = abs( c[0]-h[0] ) + abs( c[1]-h[1] )\n",
    "        baseHeap[i].append( [length[i][j], j] )\n",
    "    heapq.heapify( baseHeap[i] )\n",
    "\n",
    "deleteNum = len( chicken ) - M\n",
    "if deleteNum > 0:\n",
    "    result = 1234567890   \n",
    "    index = [i for i in range( len( chicken ) )]\n",
    "    for deleteList in combinations( index , deleteNum ):\n",
    "        tmpHeap = copy.deepcopy( baseHeap )\n",
    "        tmp = 0\n",
    "        for i in range( len(house) ):\n",
    "            while tmpHeap[i][0][1] in deleteList:  heapq.heappop( tmpHeap[i] )\n",
    "            tmp += tmpHeap[i][0][0]\n",
    "        result = min( result, tmp )\n",
    "else:\n",
    "    result = 0\n",
    "    for i in range(len(house)): result += baseHeap[i][0][0]\n",
    "print( result )"
   ]
  },
  {
   "cell_type": "markdown",
   "metadata": {},
   "source": [
    "# 14. 외벽 점검"
   ]
  },
  {
   "cell_type": "code",
   "execution_count": null,
   "metadata": {},
   "outputs": [],
   "source": []
  }
 ],
 "metadata": {
  "kernelspec": {
   "display_name": "Python 3",
   "language": "python",
   "name": "python3"
  },
  "language_info": {
   "codemirror_mode": {
    "name": "ipython",
    "version": 3
   },
   "file_extension": ".py",
   "mimetype": "text/x-python",
   "name": "python",
   "nbconvert_exporter": "python",
   "pygments_lexer": "ipython3",
   "version": "3.7.1"
  }
 },
 "nbformat": 4,
 "nbformat_minor": 4
}
