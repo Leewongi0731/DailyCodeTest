{
 "cells": [
  {
   "cell_type": "markdown",
   "metadata": {},
   "source": [
    "# 15. 특정 거리의 도시 찾기\n",
    "* https://www.acmicpc.net/problem/18352"
   ]
  },
  {
   "cell_type": "code",
   "execution_count": null,
   "metadata": {},
   "outputs": [],
   "source": [
    "# 18352번: 특정 거리의 도시 찾기\n",
    "from collections import deque\n",
    "import sys\n",
    "\n",
    "MAX_LEN = sys.maxsize\n",
    "\n",
    "N, M, K, X = list(map(int, input().split()))\n",
    "graph = [ [] for i in range(N+1) ]\n",
    "for _ in range(M):\n",
    "    A,B = list(map(int, sys.stdin.readline().split()))\n",
    "    graph[A].append( B )\n",
    "\n",
    "visited = [-1]*(N+1)\n",
    "visited[X] = 0\n",
    "queue = deque()\n",
    "queue.append( X )\n",
    "result = []\n",
    "while queue:\n",
    "    q = queue.popleft()\n",
    "    \n",
    "    if visited[q] > K: break\n",
    "    \n",
    "    for nextNode in graph[q]:\n",
    "        if visited[ nextNode ] == -1:\n",
    "            visited[ nextNode ] = visited[q] + 1\n",
    "            if visited[ nextNode ] == K: result.append( nextNode )\n",
    "            queue.append( nextNode )\n",
    "\n",
    "result = sorted( result )\n",
    "if len(result) == 0: print(-1)\n",
    "else: print( '\\n'.join(map(str, result)) )"
   ]
  },
  {
   "cell_type": "markdown",
   "metadata": {},
   "source": [
    "# 16. 연구소\n",
    "* https://www.acmicpc.net/problem/14502"
   ]
  },
  {
   "cell_type": "code",
   "execution_count": null,
   "metadata": {},
   "outputs": [],
   "source": [
    "# 14502번: 연구소\n",
    "from itertools import combinations\n",
    "from collections import deque\n",
    "\n",
    "def countVirus():\n",
    "    cnt = 0\n",
    "    q = deque(virus)\n",
    "    visited = [[0]*M for i in range(N)]\n",
    "    while q:\n",
    "        x, y = q.popleft()\n",
    "        visited[x][y] = 1\n",
    "        for i in range(4):\n",
    "            nx = x + dx[i]\n",
    "            ny = y + dy[i]\n",
    "            if 0 <= nx < N and 0 <= ny < M:\n",
    "                if visited[nx][ny] == 0 and graph[nx][ny] == 0:\n",
    "                    visited[nx][ny] = 1\n",
    "                    cnt += 1\n",
    "                    q.append((nx, ny))\n",
    "    return cnt\n",
    "######################################################################################    \n",
    "N, M = map(int, input().split())\n",
    "graph = [list(map(int, input().split())) for i in range(N)]\n",
    "virus, wall, blank = [], [], []\n",
    "for i in range(N):\n",
    "    for j in range(M):\n",
    "        if graph[i][j] == 0:\n",
    "            blank.append((i, j))\n",
    "        if graph[i][j] == 1:\n",
    "            wall.append((i, j))\n",
    "        if graph[i][j] == 2:\n",
    "            virus.append((i, j))\n",
    "\n",
    "dx = [-1,1,0,0]\n",
    "dy = [0,0,-1,1]\n",
    "max_value = 0\n",
    "\n",
    "for combi in combinations(blank, 3): # 0 지점중 3개를 무작위로 뽑아서 벽으로 만들고 안전지역 넓이를 측정\n",
    "    for i, j in combi: graph[i][j] = 1\n",
    "        \n",
    "    virusCount = countVirus()\n",
    "    max_value = max(max_value, len(blank) - 3 - virusCount )\n",
    "    \n",
    "    for i, j in combi: graph[i][j] = 0\n",
    "\n",
    "print(max_value)"
   ]
  },
  {
   "cell_type": "markdown",
   "metadata": {},
   "source": [
    "# 17. 경쟁적 전염\n",
    "* https://www.acmicpc.net/problem/18405"
   ]
  },
  {
   "cell_type": "code",
   "execution_count": null,
   "metadata": {},
   "outputs": [],
   "source": []
  },
  {
   "cell_type": "markdown",
   "metadata": {},
   "source": [
    "# 18. 괄호 변환\n",
    "* https://programmers.co.kr/learn/courses/30/lessons/60058"
   ]
  },
  {
   "cell_type": "code",
   "execution_count": null,
   "metadata": {},
   "outputs": [],
   "source": [
    "# 2020 카카오 공채: 괄호 변환\n",
    "def solution(p):\n",
    "    answer = ''\n",
    "    return answer"
   ]
  },
  {
   "cell_type": "markdown",
   "metadata": {},
   "source": [
    "# 19. 연산자 끼워 넣기\n",
    "* https://www.acmicpc.net/problem/14888"
   ]
  },
  {
   "cell_type": "code",
   "execution_count": null,
   "metadata": {},
   "outputs": [],
   "source": [
    "# 14888번: 연산자 끼워넣기\n",
    "from itertools import permutations\n",
    "\n",
    "N = int(input())\n",
    "datas = list(map(int, input().split()))\n",
    "pNum, sNum, mNum, dNum = list(map(int, input().split()))\n",
    "operator = ['p'] * pNum + ['s'] * sNum + ['m'] * mNum + ['d'] * dNum\n",
    "\n",
    "maxResult = -10000000000\n",
    "minResult = 10000000000\n",
    "\n",
    "for op in list(permutations(operator, N-1)):\n",
    "    tmp = datas[0]\n",
    "    for i in range(N-1):\n",
    "        if op[i] == 'p':\n",
    "            tmp+=datas[i+1]\n",
    "        elif op[i] == 's':\n",
    "            tmp-=datas[i+1]\n",
    "        elif op[i] == 'm':\n",
    "            tmp*=datas[i+1]\n",
    "        elif op[i] == 'd':\n",
    "            minusFlag = False\n",
    "            if tmp < 0:\n",
    "                minusFlag = True\n",
    "                tmp = -tmp\n",
    "            \n",
    "            tmp //= datas[i+1]\n",
    "            if minusFlag: tmp = -tmp\n",
    "        \n",
    "    maxResult = max( maxResult, tmp  )\n",
    "    minResult = min( minResult, tmp  )      \n",
    "print(maxResult)\n",
    "print(minResult)"
   ]
  },
  {
   "cell_type": "markdown",
   "metadata": {},
   "source": [
    "# 20. 감시 피하기\n",
    "* https://www.acmicpc.net/problem/18428"
   ]
  },
  {
   "cell_type": "code",
   "execution_count": 2,
   "metadata": {},
   "outputs": [
    {
     "name": "stdout",
     "output_type": "stream",
     "text": [
      "4\n",
      "S S S T\n",
      "X X X X\n",
      "X X X X\n",
      "T T T X\n",
      "YES\n"
     ]
    }
   ],
   "source": [
    "# 18428번: 감시 피하기\n",
    "from itertools import combinations\n",
    "from collections import deque\n",
    "\n",
    "def findStudent( i, j, N ):\n",
    "    for x in range(4):\n",
    "        ii, jj = i, j\n",
    "        while True:\n",
    "            ii, jj = ii+mx[x], jj+my[x]\n",
    "            if ii >= 0 and ii < N and jj >= 0 and jj < N:\n",
    "                if graph[ii][jj] == 'S':\n",
    "                    return False\n",
    "                elif graph[ii][jj] == 'O':\n",
    "                    break\n",
    "            else:\n",
    "                break\n",
    "    return True\n",
    "#################################################################\n",
    "\n",
    "N = int(input())\n",
    "graph = [ [] for i in range(N) ]\n",
    "teacher = []\n",
    "wall = []\n",
    "for i in range(N):\n",
    "    graph[i] = input().split()\n",
    "    for j in range(N):\n",
    "        if graph[i][j] == 'T': teacher.append( [i, j] )\n",
    "        elif graph[i][j] == 'X': wall.append( [i, j] )\n",
    "\n",
    "mx = [-1,1,0,0]\n",
    "my = [0,0,-1,1]\n",
    "for com in combinations(wall, 3):\n",
    "    for c in com: graph[c[0]][c[1]] = 'O'\n",
    "    \n",
    "    result = \"YES\"\n",
    "    for ti, tj in teacher:\n",
    "        if findStudent(ti, tj, N) == False:\n",
    "            result = \"NO\"\n",
    "            break\n",
    "    if result == \"YES\": break\n",
    "        \n",
    "    for c in com: graph[c[0]][c[1]] = 'X'\n",
    "print( result )"
   ]
  },
  {
   "cell_type": "markdown",
   "metadata": {},
   "source": [
    "# 21. 인구 이동\n",
    "* https://www.acmicpc.net/problem/16234"
   ]
  },
  {
   "cell_type": "code",
   "execution_count": 12,
   "metadata": {},
   "outputs": [
    {
     "name": "stdout",
     "output_type": "stream",
     "text": [
      "2 20 50\n",
      "50 30\n",
      "20 40\n",
      "1\n"
     ]
    }
   ],
   "source": [
    "# 16234번: 인구 이동\n",
    "from collections import deque\n",
    "\n",
    "def BFS(i, j):\n",
    "    global N, L, R\n",
    "    queue = deque( )\n",
    "    queue.append( [i,j] )\n",
    "\n",
    "    while queue:\n",
    "        i, j = queue.popleft()\n",
    "\n",
    "        for x in range(4):\n",
    "            ii, jj = i+mx[x], j+my[x]\n",
    "            if ii >= 0 and ii < N and jj >= 0 and jj < N and visited[ii][jj] == 0:\n",
    "                gap = abs( graph[i][j] - graph[ii][jj] )\n",
    "                if L <= gap and gap <= R:\n",
    "                    group[-1][0] += graph[ii][jj]\n",
    "                    group[-1][1].append( [ii, jj] )\n",
    "                    queue.append( [ii, jj] )\n",
    "                    visited[ii][jj] = 1\n",
    "######################################################################################  \n",
    "\n",
    "N, L, R = list( map( int, input().split() ) )\n",
    "graph = [ list( map( int, input().split() ) ) for i in range(N) ]\n",
    "mx = [-1,1,0,0]\n",
    "my = [0,0,-1,1]\n",
    "\n",
    "result = 0\n",
    "while True:\n",
    "    visited = [ [0]*N for i in range(N) ]\n",
    "    group = []\n",
    "    for i in range(N):\n",
    "        for j in range(N):\n",
    "            if visited[i][j] == 0:\n",
    "                group.append( [graph[i][j], [ [i,j] ]  ] )\n",
    "                visited[i][j] = 1\n",
    "                BFS( i, j )\n",
    "\n",
    "    if len(group) == N**2: break\n",
    "\n",
    "    for groupIndex in range( len(group) ):\n",
    "        avg = group[groupIndex][0] // len( group[groupIndex][1] )\n",
    "        for i, j in group[groupIndex][1]: graph[i][j] = avg\n",
    "\n",
    "    result += 1\n",
    "print( result )"
   ]
  },
  {
   "cell_type": "markdown",
   "metadata": {},
   "source": [
    "# 22. 블록 이동하기\n",
    "* https://programmers.co.kr/learn/courses/30/lessons/60063"
   ]
  },
  {
   "cell_type": "code",
   "execution_count": null,
   "metadata": {},
   "outputs": [],
   "source": [
    "# 2020 카카오 공채: 블록 이동하기\n",
    "def solution(board):\n",
    "    answer = 0\n",
    "    return answer"
   ]
  }
 ],
 "metadata": {
  "kernelspec": {
   "display_name": "Python 3",
   "language": "python",
   "name": "python3"
  },
  "language_info": {
   "codemirror_mode": {
    "name": "ipython",
    "version": 3
   },
   "file_extension": ".py",
   "mimetype": "text/x-python",
   "name": "python",
   "nbconvert_exporter": "python",
   "pygments_lexer": "ipython3",
   "version": "3.7.1"
  }
 },
 "nbformat": 4,
 "nbformat_minor": 4
}
