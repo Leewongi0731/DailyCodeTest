{
 "cells": [
  {
   "cell_type": "markdown",
   "metadata": {},
   "source": [
    "# 27. 정렬된 배열에서 특정 수의 개수 구하기"
   ]
  },
  {
   "cell_type": "code",
   "execution_count": 2,
   "metadata": {},
   "outputs": [
    {
     "name": "stdout",
     "output_type": "stream",
     "text": [
      "7 4\n",
      "1 1 2 2 2 2 3\n",
      "-1\n"
     ]
    }
   ],
   "source": [
    "def countX( left, right, x ):\n",
    "    if datas[left] > x or datas[right] < x: return 0 # 찾는 범위 내에 target값 x가 없음\n",
    "    elif datas[left] == datas[right] == x: return right-left+1 # 찾는 범위 모두 target값 x임\n",
    "    else:\n",
    "        mid = (left+right)//2\n",
    "        return countX( left,mid,x ) + countX( mid+1,right,x )\n",
    "#######################################################\n",
    "N, x = list(map(int, input().split()))\n",
    "datas = list(map(int, input().split()))\n",
    "result = countX(0, N-1, x)\n",
    "if result == 0: print(-1)\n",
    "else: print(result)"
   ]
  },
  {
   "cell_type": "markdown",
   "metadata": {},
   "source": [
    "# 28. 고정점 찾기"
   ]
  },
  {
   "cell_type": "code",
   "execution_count": 4,
   "metadata": {},
   "outputs": [
    {
     "name": "stdout",
     "output_type": "stream",
     "text": [
      "7\n",
      "-15 -4 2 8 9 13 15\n",
      "2\n"
     ]
    }
   ],
   "source": [
    "def getFixedPoint( left, right ):\n",
    "    global fixedPoint\n",
    "    if left==right==datas[left]: fixedPoint = datas[left]\n",
    "    elif datas[left] > right or datas[right] < left:\n",
    "        # 찾는 구간 [left:right+1]에서의 최소값 datas[left]이 최대 index인 right보다 크거나,\n",
    "        # 최대값 datas[right]가 최소 index인 left보다 작다면, 해당 구간에는 fixedPoint가 존재 할 수 없음\n",
    "        pass\n",
    "    else:\n",
    "        mid = (left+right)//2\n",
    "        getFixedPoint( left,mid )\n",
    "        getFixedPoint( mid+1,right )\n",
    "#######################################################\n",
    "N = int(input())\n",
    "datas = list(map(int, input().split()))\n",
    "fixedPoint = -1\n",
    "getFixedPoint(0, N-1)\n",
    "print(fixedPoint)"
   ]
  },
  {
   "cell_type": "markdown",
   "metadata": {},
   "source": [
    "# 29. 공유기 설치\n",
    "* https://www.acmicpc.net/problem/2110"
   ]
  },
  {
   "cell_type": "code",
   "execution_count": null,
   "metadata": {},
   "outputs": [],
   "source": [
    "# 2110번: 공유기 설치\n",
    "N, C = list(map(int, input().split()))\n",
    "datas = [ int(input()) for i in range(N) ]\n",
    "datas = sorted( datas )\n",
    "\n",
    "left = 1 # 최소거리\n",
    "right = datas[-1] - datas[0] # 최대거리\n",
    "result = 0\n",
    "while left <= right:\n",
    "    mid = (left+right)//2 # 기대거리\n",
    "    start = datas[0] # 0번 index의 data는 항상 사용\n",
    "    count = 1 # 0번 index를 사용하기 때문에 count의 시작값은 1\n",
    "    \n",
    "    for i in range( 1, N ):\n",
    "        length = datas[i] - start\n",
    "        if length >= mid:\n",
    "            count += 1\n",
    "            start = datas[i]\n",
    "            if count >= C: break\n",
    "        \n",
    "    if count>=C:\n",
    "        # 해당 left(최소거리) / right(최대거리)에서 mid(기대거리)의 갯수가 C이상 나온다면,\n",
    "        # left(최소거리)를 줄여 더 큰 mid(기대거리)에 대해 check함 \n",
    "        result = mid\n",
    "        left = mid + 1\n",
    "    else:\n",
    "        # 해당 left(최소거리) / right(최대거리)에서 mid(기대거리)의 갯수가 C이상 나오지 않는다면,\n",
    "        # right(최대거리)를 줄여 더 작은 mid(기대거리)에 대해 check함\n",
    "        right = mid - 1\n",
    "print( result )"
   ]
  },
  {
   "cell_type": "markdown",
   "metadata": {},
   "source": [
    "# 30. 가사 검색\n",
    "* https://programmers.co.kr/learn/courses/30/lessons/60060"
   ]
  },
  {
   "cell_type": "code",
   "execution_count": 51,
   "metadata": {},
   "outputs": [],
   "source": [
    "# 2020 카카오 공채: 가사 검색\n",
    "from bisect import bisect_left\n",
    "\n",
    "def getCount( data, search ):\n",
    "    # bisect_left 모듈을 사용하여 정렬된 data list에서 해당 문자열이 시작 할 수 있는 지점을 찾음\n",
    "    left = bisect_left( data, search )\n",
    "    right = len(data)-1\n",
    "    count = 0\n",
    "    \n",
    "    while left <= right:\n",
    "        mid = (left+right)//2\n",
    "        target = data[mid]\n",
    "        \n",
    "        passBit = True\n",
    "        for i in range( len(search)-1, -1, -1 ):\n",
    "            if target[i] != search[i]: \n",
    "                passBit = False\n",
    "                break\n",
    "        \n",
    "        if passBit == True:\n",
    "            # mid 값이 성공이라는 것은 left ~ mid 까지가 모두 통과라는 것\n",
    "            count += mid - left + 1\n",
    "            left = mid + 1\n",
    "        else:\n",
    "            # mid 값이 실패라는 것은 mid~right 까지가 모두 실패라는 것\n",
    "            right = mid - 1\n",
    "    return count \n",
    "    \n",
    "def solution(words, queries):\n",
    "    word = [[] for i in range(10001)]\n",
    "    reveredWord = [[] for i in range(10001)]\n",
    "    for w in words: \n",
    "        # 각 word를 word길이에 따라 분류함\n",
    "        # ???로 시작하는 querie와 뒤에 ???가 붙는 querie를 따로 처리하기 위해 word, reveredWord 두개로 나누어 저장\n",
    "        len_w = len(w)\n",
    "        word[len_w].append(w)\n",
    "        reveredWord[len_w].append(w[::-1])\n",
    "        \n",
    "    for i in range(1, 10001):\n",
    "        # 각 word집함을 모두 정렬해둠\n",
    "        word[i] = sorted( word[i] )\n",
    "        reveredWord[i] = sorted( reveredWord[i] )\n",
    "        \n",
    "    answer = [0 for i in range(len(queries))]\n",
    "    for i, q in enumerate(queries):\n",
    "        q_len = len(q)\n",
    "        questStart = q.find('?')\n",
    "        questEnd = q_len - q[::-1].find('?') - 1\n",
    "        \n",
    "        # 만약 모든 질의에 모든 것이 ?라면, 해당 길이만큼의 문자열은 모두 통과\n",
    "        if q_len == questEnd-questStart+1: count = len( word[q_len] )\n",
    "        elif questStart != 0:\n",
    "            # 끝이 ?로 끝나는 질의\n",
    "            search = q[:questStart]\n",
    "            data = word[q_len]\n",
    "            count = getCount( data, search )\n",
    "        else:\n",
    "            # 시작이 ?로 시작하는 질의\n",
    "            q = q[::-1]\n",
    "            questStart = q.find('?')\n",
    "            \n",
    "            search = q[:questStart]\n",
    "            data = reveredWord[q_len]\n",
    "            count = getCount( data, search )\n",
    "            \n",
    "        answer[i] = count\n",
    "    \n",
    "    return answer"
   ]
  }
 ],
 "metadata": {
  "kernelspec": {
   "display_name": "Python 3",
   "language": "python",
   "name": "python3"
  },
  "language_info": {
   "codemirror_mode": {
    "name": "ipython",
    "version": 3
   },
   "file_extension": ".py",
   "mimetype": "text/x-python",
   "name": "python",
   "nbconvert_exporter": "python",
   "pygments_lexer": "ipython3",
   "version": "3.7.6"
  }
 },
 "nbformat": 4,
 "nbformat_minor": 4
}
