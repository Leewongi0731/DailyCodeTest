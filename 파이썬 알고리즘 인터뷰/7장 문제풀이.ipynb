{
 "cells": [
  {
   "cell_type": "markdown",
   "metadata": {},
   "source": [
    "# 빗물 트래핑\n",
    "* https://leetcode.com/problems/trapping-rain-water/"
   ]
  },
  {
   "cell_type": "code",
   "execution_count": 47,
   "metadata": {},
   "outputs": [],
   "source": [
    "import heapq\n",
    "\n",
    "def Solution(height):\n",
    "        n = len( height )\n",
    "        result, index = 0, 0\n",
    "        \n",
    "        while index < n:\n",
    "            if index < n-1 and height[ index ] > height[ index + 1 ]: # 줄어들기 시작하는 곳 -> 웅덩이가 생길 수 있는 곳\n",
    "                leftHeap, rightHeap = [], [] # MAXHEAP, [value, index] \n",
    "                while index < n-1:\n",
    "                    if height[index] >= height[index+1]: # 감소하는 구간\n",
    "                        heapq.heappush( leftHeap, [ -height[index], index ] )\n",
    "                    else: # 증가하는 구간\n",
    "                        heapq.heappush( rightHeap, [ -height[index+1], index+1 ] )\n",
    "                        \n",
    "                        if -leftHeap[0][0] < -rightHeap[0][0]: # 첫 감소하는 구간보다, 높은 높이가 나오면 -> 웅덩이 채울 수 있음\n",
    "                            targetHeigth = -leftHeap[0][0]\n",
    "                            for i in range( leftHeap[0][1]+1, rightHeap[0][1], 1 ):  result += targetHeigth - height[i]\n",
    "                            leftHeap, rightHeap = [], []\n",
    "                            index += 1\n",
    "                            break\n",
    "                            \n",
    "                    index += 1\n",
    "\n",
    "                if len(rightHeap) != 0: # 웅덩이가 완성되지 않음 -> 울퉁불퉁하여 중간을 채워줘야 함\n",
    "                    left = heapq.heappop( leftHeap )\n",
    "                    right = heapq.heappop( rightHeap )\n",
    "                    targetHeigth = -right[0]\n",
    "                    for i in range(left[1]+1, right[1], 1): result += max( targetHeigth - height[i], 0 )\n",
    "\n",
    "                    while len(leftHeap)!=0 and len(rightHeap)!=0:\n",
    "                        while len(leftHeap)!=0 and left[1] != right[1]:\n",
    "                            left = heapq.heappop( leftHeap )\n",
    "                        if left[1] != right[1]: break\n",
    "                        while len(rightHeap)!=0 and right[1] <= left[1]:\n",
    "                            right = heapq.heappop( rightHeap )\n",
    "\n",
    "                        targetHeigth = min( -left[0], -right[0] )\n",
    "                        for i in range(left[1]+1, right[1], 1): result += max( targetHeigth - height[i], 0 )\n",
    "            else:\n",
    "                index += 1\n",
    "\n",
    "        return result"
   ]
  },
  {
   "cell_type": "markdown",
   "metadata": {},
   "source": [
    "* Runtime: 48 ms, faster than 93.05% of Python3 online submissions for Trapping Rain Water.\n",
    "* Memory Usage: 15.2 MB, less than 7.33% of Python3 online submissions for Trapping Rain Water."
   ]
  },
  {
   "cell_type": "markdown",
   "metadata": {},
   "source": [
    "# \t세 수의 합\n",
    "* https://leetcode.com/problems/3sum/\n",
    "* Counter를 사용하여 들어오는 데이터의 각 갯수를 파악\n",
    "* 해당 배열에서 모든 2개조합을 돌면서, 0을 만들기 위한 3번째 인자가 존재하는지 확인"
   ]
  },
  {
   "cell_type": "code",
   "execution_count": 1,
   "metadata": {},
   "outputs": [],
   "source": [
    "from collections import Counter\n",
    "\n",
    "def Solution(nums):\n",
    "    result = dict()\n",
    "    countDict = Counter( nums )\n",
    "    nums = list( set( nums ) )\n",
    "    n = len(nums)\n",
    "    for i in range(n-1):\n",
    "        for j in range(i+1, n):\n",
    "            target = -(nums[i] + nums[j])\n",
    "            if ( target == nums[i] and countDict[target] > 1 ) \\\n",
    "            or ( target == nums[j] and countDict[target] > 1 ) \\\n",
    "            or ( target != nums[i] and target != nums[j] and countDict[target] > 0 ):\n",
    "                re = sorted( [ nums[i], nums[j], target ] )\n",
    "                if (re[0], re[1], re[2]) not in result.keys():  result[ (re[0], re[1], re[2]) ] = [re[0], re[1], re[2]]\n",
    "\n",
    "    if countDict[0] > 2: result[0] = [0,0,0]\n",
    "\n",
    "    return sorted( list( result.values() ) )"
   ]
  },
  {
   "cell_type": "markdown",
   "metadata": {},
   "source": [
    "* Runtime: 1816 ms, faster than 28.28% of Python3 online submissions for 3Sum.\n",
    "* Memory Usage: 19.4 MB, less than 5.24% of Python3 online submissions for 3Sum."
   ]
  },
  {
   "cell_type": "markdown",
   "metadata": {},
   "source": [
    "# \t자신을 제외한 배열의 곱\n",
    "* https://leetcode.com/problems/product-of-array-except-self/"
   ]
  },
  {
   "cell_type": "code",
   "execution_count": 11,
   "metadata": {},
   "outputs": [],
   "source": [
    "def zeroFillter( x, multipleValue ):\n",
    "    if x == 0: return multipleValue\n",
    "    else: return 0\n",
    "    \n",
    "def Solution(nums):\n",
    "    multipleValue = 1\n",
    "    zeroBit = 0\n",
    "    for num in nums: \n",
    "        if num == 0: zeroBit += 1\n",
    "        else: multipleValue *= num\n",
    "    \n",
    "    if zeroBit>1: result = [ 0 for num in nums ]\n",
    "    elif zeroBit == 1: result = list( map(lambda x: zeroFillter(x, multipleValue), nums) )\n",
    "    else: result = [ multipleValue//num for num in nums ]\n",
    "    \n",
    "    return result"
   ]
  },
  {
   "cell_type": "markdown",
   "metadata": {},
   "source": [
    "* Runtime: 204 ms, faster than 100.00% of Python3 online submissions for Product of Array Except Self.\n",
    "* Memory Usage: 21.4 MB, less than 48.51% of Python3 online submissions for Product of Array Except Self."
   ]
  }
 ],
 "metadata": {
  "kernelspec": {
   "display_name": "Python 3",
   "language": "python",
   "name": "python3"
  },
  "language_info": {
   "codemirror_mode": {
    "name": "ipython",
    "version": 3
   },
   "file_extension": ".py",
   "mimetype": "text/x-python",
   "name": "python",
   "nbconvert_exporter": "python",
   "pygments_lexer": "ipython3",
   "version": "3.7.1"
  }
 },
 "nbformat": 4,
 "nbformat_minor": 4
}
