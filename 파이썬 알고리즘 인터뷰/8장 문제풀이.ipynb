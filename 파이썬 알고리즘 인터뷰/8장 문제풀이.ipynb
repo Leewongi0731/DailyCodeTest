{
 "cells": [
  {
   "cell_type": "markdown",
   "metadata": {},
   "source": [
    "# \t두 수의 덧셈\n",
    "* https://leetcode.com/problems/add-two-numbers/"
   ]
  },
  {
   "cell_type": "code",
   "execution_count": 19,
   "metadata": {},
   "outputs": [],
   "source": [
    "# Definition for singly-linked list.\n",
    "# class ListNode:\n",
    "#     def __init__(self, val=0, next=None):\n",
    "#         self.val = val\n",
    "#         self.next = next\n",
    "class Solution:\n",
    "    def addTwoNumbers(self, l1: ListNode, l2: ListNode) -> ListNode:\n",
    "        val = l1.val+l2.val\n",
    "        addBit = val // 10        \n",
    "        result = [ ListNode( val % 10 ) ]\n",
    "        \n",
    "        while l1.next != None and l2.next != None:\n",
    "            l1 = l1.next\n",
    "            l2 = l2.next\n",
    "            \n",
    "            val = l1.val+l2.val\n",
    "            if addBit: val += 1\n",
    "            addBit = val // 10     \n",
    "            result.append( ListNode( val % 10 ) )\n",
    "        \n",
    "        \n",
    "        while l1.next != None:\n",
    "            l1 = l1.next\n",
    "            \n",
    "            val = l1.val\n",
    "            if addBit: val += 1\n",
    "            addBit = val // 10     \n",
    "            result.append( ListNode( val % 10 ) )\n",
    "        \n",
    "        \n",
    "        while l2.next != None:\n",
    "            l2 = l2.next\n",
    "            \n",
    "            val = l2.val\n",
    "            if addBit: val += 1\n",
    "            addBit = val // 10     \n",
    "            result.append( ListNode( val % 10 ) )\n",
    "        \n",
    "        if addBit: result.append( ListNode( 1 ) )\n",
    "        \n",
    "        for i in range(len(result)-1):\n",
    "            result[i].next = result[i+1]\n",
    "            \n",
    "        return result[0]"
   ]
  },
  {
   "cell_type": "markdown",
   "metadata": {},
   "source": [
    "* Runtime: 68 ms, faster than 74.26% of Python3 online submissions for Add Two Numbers.\n",
    "* Memory Usage: 14.4 MB, less than 12.20% of Python3 online submissions for Add Two Numbers."
   ]
  },
  {
   "cell_type": "markdown",
   "metadata": {},
   "source": [
    "# 페어의 노드 스왑\n",
    "* https://leetcode.com/problems/swap-nodes-in-pairs/"
   ]
  },
  {
   "cell_type": "code",
   "execution_count": null,
   "metadata": {},
   "outputs": [],
   "source": [
    "# Definition for singly-linked list.\n",
    "# class ListNode:\n",
    "#     def __init__(self, val=0, next=None):\n",
    "#         self.val = val\n",
    "#         self.next = next\n",
    "class Solution:\n",
    "    def swapPairs(self, head: ListNode) -> ListNode:\n",
    "        if head == []: return []\n",
    "        if head == None: return None\n",
    "        if head.next == None: return head\n",
    "        \n",
    "        node1 = head\n",
    "        node2 = head.next\n",
    "        \n",
    "        node1.val, node2.val = node2.val, node1.val\n",
    "        \n",
    "        while node2.next != None:\n",
    "            node1 = node2.next\n",
    "            if node1.next == None: break\n",
    "            node2 = node1.next\n",
    "            \n",
    "            node1.val, node2.val = node2.val, node1.val\n",
    "        \n",
    "        return head"
   ]
  },
  {
   "cell_type": "markdown",
   "metadata": {},
   "source": [
    "* Runtime: 32 ms, faster than 59.76% of Python3 online submissions for Swap Nodes in Pairs.\n",
    "* Memory Usage: 14.3 MB, less than 18.81% of Python3 online submissions for Swap Nodes in Pairs."
   ]
  },
  {
   "cell_type": "markdown",
   "metadata": {},
   "source": [
    "# \t홀짝 연결 리스트\n",
    "* https://leetcode.com/problems/odd-even-linked-list/"
   ]
  },
  {
   "cell_type": "code",
   "execution_count": null,
   "metadata": {},
   "outputs": [],
   "source": [
    "# Definition for singly-linked list.\n",
    "# class ListNode:\n",
    "#     def __init__(self, val=0, next=None):\n",
    "#         self.val = val\n",
    "#         self.next = next\n",
    "class Solution:\n",
    "    def oddEvenList(self, head: ListNode) -> ListNode:\n",
    "        if head == []: return []\n",
    "        if head == None: return None\n",
    "        if head.next == None: return head\n",
    "        \n",
    "        oddBit = 0\n",
    "        bitChange = [1, 0]\n",
    "        result = [ ListNode(head.val) ]\n",
    "        oddList = [ ]\n",
    "        while head.next != None:\n",
    "            head = head.next\n",
    "            oddBit = bitChange[ oddBit ]\n",
    "            \n",
    "            if oddBit: oddList.append( ListNode(head.val) )\n",
    "            else: result.append( ListNode(head.val) )\n",
    "                \n",
    "        result += oddList\n",
    "        \n",
    "        for i in range(len(result)-1):\n",
    "            result[i].next = result[i+1]\n",
    "            \n",
    "        return result[0]"
   ]
  },
  {
   "cell_type": "markdown",
   "metadata": {},
   "source": [
    "* Runtime: 52 ms, faster than 14.49% of Python3 online submissions for Odd Even Linked List.\n",
    "* Memory Usage: 17.6 MB, less than 5.02% of Python3 online submissions for Odd Even Linked List."
   ]
  },
  {
   "cell_type": "markdown",
   "metadata": {},
   "source": [
    "# \t역순 연결 리스트 II\n",
    "* https://leetcode.com/problems/reverse-linked-list-ii/"
   ]
  },
  {
   "cell_type": "code",
   "execution_count": null,
   "metadata": {},
   "outputs": [],
   "source": [
    "# Definition for singly-linked list.\n",
    "# class ListNode:\n",
    "#     def __init__(self, val=0, next=None):\n",
    "#         self.val = val\n",
    "#         self.next = next\n",
    "class Solution:\n",
    "    def reverseBetween(self, head: ListNode, m: int, n: int) -> ListNode:\n",
    "        lengthCount = 1\n",
    "        first, second = None, None\n",
    "        if m == 1: first = head\n",
    "        if n == 1: second = head    \n",
    "        \n",
    "        if first != None and second == None:\n",
    "            result1 = []\n",
    "            reveseList = [ ListNode(head.val) ]\n",
    "            result2 = []\n",
    "        else:\n",
    "            result1 = [ ListNode(head.val) ]\n",
    "            reveseList = []\n",
    "            result2 = []\n",
    "            \n",
    "        while head.next != None:\n",
    "            head = head.next\n",
    "            lengthCount += 1\n",
    "            if lengthCount == m: first = head\n",
    "            if lengthCount == n:\n",
    "                second = head\n",
    "                reveseList.append( ListNode(head.val) )\n",
    "                continue\n",
    "            \n",
    "            if first != None and second != None:\n",
    "                result2.append( ListNode(head.val) )\n",
    "            elif first == None and second == None:\n",
    "                result1.append( ListNode(head.val) )\n",
    "            else:\n",
    "                reveseList.append( ListNode(head.val) )\n",
    "                \n",
    "        reveseList.reverse()\n",
    "        result = result1 + reveseList + result2\n",
    "        \n",
    "        for i in range(len(result)-1):\n",
    "            result[i].next = result[i+1]\n",
    "            \n",
    "        return result[0]"
   ]
  },
  {
   "cell_type": "markdown",
   "metadata": {},
   "source": [
    "* Runtime: 28 ms, faster than 86.30% of Python3 online submissions for Reverse Linked List II.\n",
    "* Memory Usage: 14.6 MB, less than 7.47% of Python3 online submissions for Reverse Linked List II."
   ]
  }
 ],
 "metadata": {
  "kernelspec": {
   "display_name": "Python 3",
   "language": "python",
   "name": "python3"
  },
  "language_info": {
   "codemirror_mode": {
    "name": "ipython",
    "version": 3
   },
   "file_extension": ".py",
   "mimetype": "text/x-python",
   "name": "python",
   "nbconvert_exporter": "python",
   "pygments_lexer": "ipython3",
   "version": "3.7.1"
  }
 },
 "nbformat": 4,
 "nbformat_minor": 4
}
