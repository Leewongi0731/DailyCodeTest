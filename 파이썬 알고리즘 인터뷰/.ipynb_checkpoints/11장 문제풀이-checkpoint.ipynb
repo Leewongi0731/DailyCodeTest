{
 "cells": [
  {
   "cell_type": "markdown",
   "metadata": {},
   "source": [
    "# 중복 문자 없는 가장 긴 부분 문자열\n",
    "* https://leetcode.com/problems/longest-substring-without-repeating-characters/"
   ]
  },
  {
   "cell_type": "code",
   "execution_count": 4,
   "metadata": {},
   "outputs": [],
   "source": [
    "class Solution:\n",
    "    def lengthOfLongestSubstring(self, s: str) -> int:\n",
    "        if s == \"\": return 0\n",
    "        elif len(s) == 1: return 1\n",
    "\n",
    "        visited = set()\n",
    "        visited.add( s[0] )\n",
    "        result = 1\n",
    "        start = 0\n",
    "        for end in range( 1, len(s) ):\n",
    "            while s[end] in visited:\n",
    "                visited.remove( s[start] )\n",
    "                start += 1\n",
    "\n",
    "            visited.add( s[end] )\n",
    "            result = max( result, len(visited) )\n",
    "        return result"
   ]
  },
  {
   "cell_type": "markdown",
   "metadata": {},
   "source": [
    "* Runtime: 92 ms, faster than 32.46% of Python3 online submissions for Longest Substring Without Repeating Characters.\n",
    "* Memory Usage: 14.3 MB, less than 82.52% of Python3 online submissions for Longest Substring Without Repeating Character"
   ]
  },
  {
   "cell_type": "markdown",
   "metadata": {},
   "source": [
    "# 상위 K 빈도 요소\n",
    "* https://leetcode.com/problems/top-k-frequent-elements/"
   ]
  },
  {
   "cell_type": "code",
   "execution_count": 29,
   "metadata": {},
   "outputs": [],
   "source": [
    "from collections import Counter\n",
    "import heapq\n",
    "\n",
    "class Solution:\n",
    "    def topKFrequent(self, nums: List[int], k: int) -> List[int]:\n",
    "        count = Counter( nums )\n",
    "        heap = [ [ -count[key], key ] for key in count.keys() ]\n",
    "        heapq.heapify( heap )\n",
    "\n",
    "        result = [ heapq.heappop(heap)[1] for i in range(k) ]\n",
    "        result.sort()\n",
    "        return result"
   ]
  },
  {
   "cell_type": "markdown",
   "metadata": {},
   "source": [
    "* Runtime: 100 ms, faster than 72.67% of Python3 online submissions for Top K Frequent Elements.\n",
    "* Memory Usage: 18.9 MB, less than 13.80% of Python3 online submissions for Top K Frequent Elements."
   ]
  }
 ],
 "metadata": {
  "kernelspec": {
   "display_name": "Python 3",
   "language": "python",
   "name": "python3"
  },
  "language_info": {
   "codemirror_mode": {
    "name": "ipython",
    "version": 3
   },
   "file_extension": ".py",
   "mimetype": "text/x-python",
   "name": "python",
   "nbconvert_exporter": "python",
   "pygments_lexer": "ipython3",
   "version": "3.7.6"
  }
 },
 "nbformat": 4,
 "nbformat_minor": 4
}
