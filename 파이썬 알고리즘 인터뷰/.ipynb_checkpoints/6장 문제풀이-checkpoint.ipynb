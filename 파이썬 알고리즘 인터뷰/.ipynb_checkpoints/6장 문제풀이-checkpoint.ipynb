{
 "cells": [
  {
   "cell_type": "markdown",
   "metadata": {},
   "source": [
    "# 그룹 애너그램\n",
    "* 애너그램 => 글자의 순서를 다르게하면 만들 수 있는 문자들"
   ]
  },
  {
   "cell_type": "code",
   "execution_count": 16,
   "metadata": {},
   "outputs": [],
   "source": [
    "from collections import Counter\n",
    "\n",
    "def Solution(strs):\n",
    "    result = []\n",
    "    \n",
    "    counterList = [ Counter( s ) for s in strs ]\n",
    "    check = [ 0 for i in range( len(strs) ) ]\n",
    "    \n",
    "    for i in range( len(strs) ):\n",
    "        if check[i] == 1: continue\n",
    "        \n",
    "        tmp = [ strs[i] ]\n",
    "        for j in range( i+1, len(strs) ):\n",
    "            if counterList[i] == counterList[j]:\n",
    "                check[ j ] = 1\n",
    "                tmp.append( strs[j] )\n",
    "        result.append( tmp )\n",
    "        \n",
    "    return result"
   ]
  },
  {
   "cell_type": "markdown",
   "metadata": {},
   "source": [
    "* Runtime: 3816 ms, faster than 5.03% of Python3 online submissios for Group Anagrams.\n",
    "* Memory Usage: 20.8 MB, less than 9.81% of Python3 online submissions for Group Anagrams."
   ]
  },
  {
   "cell_type": "markdown",
   "metadata": {},
   "source": [
    "# 가장 긴 팰린드롬 부분 문자열"
   ]
  },
  {
   "cell_type": "code",
   "execution_count": 45,
   "metadata": {},
   "outputs": [],
   "source": [
    "def Solution(s):\n",
    "    result = s[0]\n",
    "    for i in range( len(s) - 1 ):\n",
    "        if s[i] == s[i+1]:\n",
    "            buf = 1\n",
    "            while i-buf >= 0 and i+buf+1 < len(s):\n",
    "                if s[i-buf] == s[i+buf+1]: buf+=1\n",
    "                else: break\n",
    "            buf -= 1\n",
    "            if 2 + buf*2 > len( result ): result = s[ i-buf:i+buf+2 ]\n",
    "        \n",
    "        buf = 1            \n",
    "        while i-buf >= 0 and i+buf < len(s):\n",
    "            if s[i-buf] == s[i+buf]: buf+=1\n",
    "            else: break\n",
    "        buf -= 1\n",
    "        if 1 + buf*2 > len( result ): result = s[ i-buf:i+buf+1 ]\n",
    "    \n",
    "    return result"
   ]
  },
  {
   "cell_type": "markdown",
   "metadata": {},
   "source": [
    "* Runtime: 1244 ms, faster than 46.06% of Python3 online submissions for Longest Palindromic Substring.\n",
    "* Memory Usage: 14.3 MB, less than 83.57% of Python3 online submissions for Longest Palindromic Substring."
   ]
  }
 ],
 "metadata": {
  "kernelspec": {
   "display_name": "Python 3",
   "language": "python",
   "name": "python3"
  },
  "language_info": {
   "codemirror_mode": {
    "name": "ipython",
    "version": 3
   },
   "file_extension": ".py",
   "mimetype": "text/x-python",
   "name": "python",
   "nbconvert_exporter": "python",
   "pygments_lexer": "ipython3",
   "version": "3.7.6"
  }
 },
 "nbformat": 4,
 "nbformat_minor": 4
}
