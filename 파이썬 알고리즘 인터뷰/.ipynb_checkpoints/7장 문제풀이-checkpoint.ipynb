{
 "cells": [
  {
   "cell_type": "markdown",
   "metadata": {},
   "source": [
    "# 빗물 트래핑\n",
    "* https://leetcode.com/problems/trapping-rain-water/"
   ]
  },
  {
   "cell_type": "code",
   "execution_count": null,
   "metadata": {},
   "outputs": [],
   "source": []
  },
  {
   "cell_type": "markdown",
   "metadata": {},
   "source": [
    "# \t세 수의 합\n",
    "* https://leetcode.com/problems/3sum/\n",
    "* Counter를 사용하여 들어오는 데이터의 각 갯수를 파악\n",
    "* 해당 배열에서 모든 2개조합을 돌면서, 0을 만들기 위한 3번째 인자가 존재하는지 확인"
   ]
  },
  {
   "cell_type": "code",
   "execution_count": 1,
   "metadata": {},
   "outputs": [],
   "source": [
    "from collections import Counter\n",
    "\n",
    "def Solution(nums):\n",
    "    result = dict()\n",
    "    countDict = Counter( nums )\n",
    "    nums = list( set( nums ) )\n",
    "    n = len(nums)\n",
    "    for i in range(n-1):\n",
    "        for j in range(i+1, n):\n",
    "            target = -(nums[i] + nums[j])\n",
    "            if ( target == nums[i] and countDict[target] > 1 ) \\\n",
    "            or ( target == nums[j] and countDict[target] > 1 ) \\\n",
    "            or ( target != nums[i] and target != nums[j] and countDict[target] > 0 ):\n",
    "                re = sorted( [ nums[i], nums[j], target ] )\n",
    "                if (re[0], re[1], re[2]) not in result.keys():  result[ (re[0], re[1], re[2]) ] = [re[0], re[1], re[2]]\n",
    "\n",
    "    if countDict[0] > 2: result[0] = [0,0,0]\n",
    "\n",
    "    return sorted( list( result.values() ) )"
   ]
  },
  {
   "cell_type": "markdown",
   "metadata": {},
   "source": [
    "* Runtime: 1816 ms, faster than 28.28% of Python3 online submissions for 3Sum.\n",
    "* Memory Usage: 19.4 MB, less than 5.24% of Python3 online submissions for 3Sum."
   ]
  },
  {
   "cell_type": "markdown",
   "metadata": {},
   "source": [
    "# \t자신을 제외한 배열의 곱\n",
    "* https://leetcode.com/problems/product-of-array-except-self/"
   ]
  },
  {
   "cell_type": "code",
   "execution_count": 11,
   "metadata": {},
   "outputs": [],
   "source": [
    "def zeroFillter( x, multipleValue ):\n",
    "    if x == 0: return multipleValue\n",
    "    else: return 0\n",
    "    \n",
    "def Solution(nums):\n",
    "    multipleValue = 1\n",
    "    zeroBit = 0\n",
    "    for num in nums: \n",
    "        if num == 0: zeroBit += 1\n",
    "        else: multipleValue *= num\n",
    "    \n",
    "    if zeroBit>1: result = [ 0 for num in nums ]\n",
    "    elif zeroBit == 1: result = list( map(lambda x: zeroFillter(x, multipleValue), nums) )\n",
    "    else: result = [ multipleValue//num for num in nums ]\n",
    "    \n",
    "    return result"
   ]
  },
  {
   "cell_type": "markdown",
   "metadata": {},
   "source": [
    "* Runtime: 204 ms, faster than 100.00% of Python3 online submissions for Product of Array Except Self.\n",
    "* Memory Usage: 21.4 MB, less than 48.51% of Python3 online submissions for Product of Array Except Self."
   ]
  }
 ],
 "metadata": {
  "kernelspec": {
   "display_name": "Python 3",
   "language": "python",
   "name": "python3"
  },
  "language_info": {
   "codemirror_mode": {
    "name": "ipython",
    "version": 3
   },
   "file_extension": ".py",
   "mimetype": "text/x-python",
   "name": "python",
   "nbconvert_exporter": "python",
   "pygments_lexer": "ipython3",
   "version": "3.7.6"
  }
 },
 "nbformat": 4,
 "nbformat_minor": 4
}
