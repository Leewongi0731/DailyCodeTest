{
 "cells": [
  {
   "cell_type": "markdown",
   "metadata": {},
   "source": [
    "# \t중복 문자 제거\n",
    "* https://leetcode.com/problems/remove-duplicate-letters/"
   ]
  },
  {
   "cell_type": "code",
   "execution_count": 101,
   "metadata": {},
   "outputs": [],
   "source": [
    "def removeDuplicateLetters(s):\n",
    "    setA = set(s)\n",
    "    for c in sorted(setA):  # a부터 z까지 순차적으로 순회\n",
    "        suffix = s[s.index(c):]\n",
    "        if set(suffix) == setA: # 해당 suffix가 s의 모든 원소를 가지고 있다면, --> c선택 뒤에는 재귀처리\n",
    "            return c + self.removeDuplicateLetters(suffix.replace(c, ''))\n",
    "    return ''"
   ]
  },
  {
   "cell_type": "markdown",
   "metadata": {},
   "source": [
    "* Runtime: 60 ms, faster than 14.00% of Python3 online submissions for Remove Duplicate Letters.\n",
    "* Memory Usage: 14.7 MB, less than 8.33% of Python3 online submissions for Remove Duplicate Letters."
   ]
  },
  {
   "cell_type": "code",
   "execution_count": null,
   "metadata": {},
   "outputs": [],
   "source": [
    "def mySolution(s):\n",
    "    if len(s) == 1:\n",
    "        alphabetCheck = { chr(i) : -1  for i in range(97, 123) }\n",
    "        alphabetCheck[s] = 0\n",
    "        return s, alphabetCheck\n",
    "    else:\n",
    "        start, end = 0, len(s)-1\n",
    "        mid = (start+end) // 2\n",
    "\n",
    "        front, frontCheck = mySolution( s[:mid+1] )\n",
    "        back, backCheck = mySolution( s[mid+1:] )\n",
    "        \n",
    "        result = \"\"\n",
    "        resultCheck = { chr(i) : -1  for i in range(97, 123) }\n",
    "        for i in range(len(front)-1, -1, -1):\n",
    "            alphabet = front[i]\n",
    "            if backCheck[alphabet] == -1: # 무조건 추가\n",
    "                result = alphabet + result\n",
    "                resultCheck[alphabet] = 0\n",
    "            \n",
    "            elif len(result) != 0 and alphabet < result[0]:\n",
    "                result = alphabet + result\n",
    "                resultCheck[alphabet] = 0\n",
    "            \n",
    "            elif len(result) == 0 and alphabet <= back[0]:\n",
    "                result = alphabet + result\n",
    "                resultCheck[alphabet] = 0\n",
    "                \n",
    "        for alphabet in back:\n",
    "            if resultCheck[ alphabet ] == 0: continue\n",
    "            result += alphabet\n",
    "            \n",
    "        for i, alphabet in enumerate( result ):\n",
    "            resultCheck[ alphabet ] = i\n",
    "            \n",
    "        return result, resultCheck"
   ]
  },
  {
   "cell_type": "markdown",
   "metadata": {},
   "source": [
    "# \t일일 온도\n",
    "* https://leetcode.com/problems/daily-temperatures/"
   ]
  },
  {
   "cell_type": "code",
   "execution_count": 235,
   "metadata": {},
   "outputs": [],
   "source": [
    "def getParent(i, result):\n",
    "    if i==result[i]: return i\n",
    "    else: return getParent(result[i], result)\n",
    "    \n",
    "def sol( T ):\n",
    "    T += [101]\n",
    "    d = sorted( [ [T[i], i] for i in range(len(T)) ] )\n",
    "    result = [i for i in range(len(T))]\n",
    "    \n",
    "    stack = []\n",
    "    for index, data in enumerate( d[:-1] ):\n",
    "        t, i = data[0], data[1]\n",
    "        if index < len(d)-2 and t == d[index+1][0]: # 다음 최대값이랑 같음\n",
    "            stack.append( i )\n",
    "        else:\n",
    "            result[i] = getParent(i+1, result)\n",
    "            while len( stack ) != 0:\n",
    "                si = stack.pop()\n",
    "                result[ si ] = getParent(si+1, result)\n",
    "            stack = []\n",
    "            \n",
    "    for i in range(len(T)):\n",
    "        if result[i] == len(T)-1: result[i] = 0\n",
    "        else: result[i] -= i\n",
    "        \n",
    "    return result[:-1]"
   ]
  },
  {
   "cell_type": "markdown",
   "metadata": {},
   "source": [
    "* Runtime: 760 ms, faster than 9.64% of Python3 online submissions for Daily Temperatures.\n",
    "* Memory Usage: 21.6 MB, less than 5.68% of Python3 online submissions for Daily Temperatures."
   ]
  },
  {
   "cell_type": "markdown",
   "metadata": {},
   "source": [
    "# \t원형 큐 디자인\n",
    "* https://leetcode.com/problems/design-circular-queue/"
   ]
  },
  {
   "cell_type": "code",
   "execution_count": 244,
   "metadata": {},
   "outputs": [],
   "source": [
    "class MyCircularQueue:\n",
    "\n",
    "    def __init__(self, k: int):\n",
    "        self.data = [None for i in range(k)]\n",
    "        self.pre = 0\n",
    "        self.net = 0\n",
    "        self.MAXSIZE = k\n",
    "        \n",
    "    def enQueue(self, value: int) -> bool:\n",
    "        if self.isFull():\n",
    "            return False\n",
    "        else:\n",
    "            self.data[self.net] = value\n",
    "            self.net += 1\n",
    "            self.net %= self.MAXSIZE\n",
    "            return True\n",
    "        \n",
    "    def deQueue(self) -> bool:\n",
    "        if self.isEmpty():\n",
    "            return False\n",
    "        else:\n",
    "            self.data[self.pre] = None\n",
    "            self.pre += 1\n",
    "            self.pre %= self.MAXSIZE\n",
    "            return True\n",
    "        \n",
    "    def Front(self) -> int:\n",
    "        if self.isEmpty():\n",
    "            return -1\n",
    "        else:\n",
    "            return self.data[self.pre]\n",
    "\n",
    "    def Rear(self) -> int:\n",
    "        if self.isEmpty():\n",
    "            return -1\n",
    "        else:\n",
    "            tmp = self.net - 1 + self.MAXSIZE\n",
    "            tmp %= self.MAXSIZE\n",
    "            return self.data[tmp]\n",
    "\n",
    "    def isEmpty(self) -> bool:\n",
    "        if self.pre == self.net and self.data[self.pre] == None:\n",
    "            return True\n",
    "        else:\n",
    "            return False\n",
    "\n",
    "    def isFull(self) -> bool:\n",
    "        if self.pre == self.net and self.data[self.pre] != None:\n",
    "            return True\n",
    "        else:\n",
    "            return False"
   ]
  },
  {
   "cell_type": "markdown",
   "metadata": {},
   "source": [
    "* Runtime: 72 ms, faster than 45.65% of Python3 online submissions for Design Circular Queue.\n",
    "* Memory Usage: 14.9 MB, less than 49.29% of Python3 online submissions for Design Circular Queue."
   ]
  }
 ],
 "metadata": {
  "kernelspec": {
   "display_name": "Python 3",
   "language": "python",
   "name": "python3"
  },
  "language_info": {
   "codemirror_mode": {
    "name": "ipython",
    "version": 3
   },
   "file_extension": ".py",
   "mimetype": "text/x-python",
   "name": "python",
   "nbconvert_exporter": "python",
   "pygments_lexer": "ipython3",
   "version": "3.7.6"
  }
 },
 "nbformat": 4,
 "nbformat_minor": 4
}
