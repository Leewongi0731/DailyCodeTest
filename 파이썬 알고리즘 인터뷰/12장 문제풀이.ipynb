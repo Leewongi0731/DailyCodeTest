{
 "cells": [
  {
   "cell_type": "markdown",
   "metadata": {},
   "source": [
    "# 섬의 개수\t\n",
    "* https://leetcode.com/problems/number-of-islands/"
   ]
  },
  {
   "cell_type": "code",
   "execution_count": null,
   "metadata": {},
   "outputs": [],
   "source": [
    "class Solution:\n",
    "    def numIslands(self, grid: List[List[str]]) -> int:\n",
    "        N, M = len(grid), len(grid[0])\n",
    "\n",
    "        visited = [ [0]*M for i in range(N) ]\n",
    "\n",
    "        count = 0\n",
    "        mx = [-1,1,0,0]\n",
    "        my = [0,0,-1,1]\n",
    "        for i in range( N ):\n",
    "            for j in range(M):\n",
    "                if grid[i][j] == '1' and visited[i][j] == 0:\n",
    "                    count += 1\n",
    "                    visited[i][j] = count\n",
    "\n",
    "                    queue = deque()\n",
    "                    queue.append( [i,j] ) \n",
    "\n",
    "                    while queue:\n",
    "                        ii, jj = queue.popleft()\n",
    "\n",
    "                        for z in range(4):\n",
    "                            mi = ii + mx[z]\n",
    "                            mj = jj + my[z]\n",
    "                            if 0<=mi<N and 0<=mj<M and grid[mi][mj]=='1' and visited[mi][mj]==0:                            \n",
    "                                visited[mi][mj] = count\n",
    "                                queue.append( [mi,mj] )\n",
    "\n",
    "        return count"
   ]
  },
  {
   "cell_type": "markdown",
   "metadata": {},
   "source": [
    "* Runtime: 204 ms, faster than 10.74% of Python3 online submissions for Number of Islands.\n",
    "* Memory Usage: 15.1 MB, less than 98.71% of Python3 online submissions for Number of Islands."
   ]
  },
  {
   "cell_type": "markdown",
   "metadata": {},
   "source": [
    "# 전화 번호 문자 조합\t\n",
    "* https://leetcode.com/problems/letter-combinations-of-a-phone-number/"
   ]
  },
  {
   "cell_type": "code",
   "execution_count": 4,
   "metadata": {},
   "outputs": [],
   "source": [
    "class Solution:\n",
    "    def letterCombinations(self, digits: str) -> List[str]:\n",
    "        if digits == \"\": return []\n",
    "\n",
    "        numbering = {\n",
    "            '2' : ['a','b','c'],\n",
    "            '3' : ['d','e','f'],\n",
    "            '4' : ['g','h','i'],\n",
    "            '5' : ['j','k','l'],\n",
    "            '6' : ['m','n','o'],\n",
    "            '7' : ['p','q','r','s'],\n",
    "            '8' : ['t','u','v'],\n",
    "            '9' : ['w','x','y','z']\n",
    "        }\n",
    "\n",
    "        result = numbering[digits[0]]\n",
    "        for digit in digits[1:]:\n",
    "            copyResults = [ copy.deepcopy( result ) for i in  range( len(numbering[digit]) ) ]\n",
    "            result = []\n",
    "            for i, ch in enumerate( numbering[digit] ):\n",
    "                copyResults[i] = [ copyResults[i][j] + ch for j in range( len(copyResults[i]) ) ]\n",
    "                result += copyResults[i]\n",
    "                \n",
    "        return result"
   ]
  },
  {
   "cell_type": "markdown",
   "metadata": {},
   "source": [
    "* Runtime: 52 ms, faster than 7.21% of Python3 online submissions for Letter Combinations of a Phone Number.\n",
    "* Memory Usage: 14.5 MB, less than 7.00% of Python3 online submissions for Letter Combinations of a Phone Number."
   ]
  },
  {
   "cell_type": "markdown",
   "metadata": {},
   "source": [
    "# 순열\n",
    "* https://leetcode.com/problems/permutations/"
   ]
  },
  {
   "cell_type": "code",
   "execution_count": null,
   "metadata": {},
   "outputs": [],
   "source": [
    "from itertools import permutations\n",
    "\n",
    "class Solution:\n",
    "    def permute(self, nums: List[int]) -> List[List[int]]:\n",
    "        return list( permutations( nums, len(nums) ) )"
   ]
  },
  {
   "cell_type": "markdown",
   "metadata": {},
   "source": [
    "* Runtime: 56 ms, faster than 11.57% of Python3 online submissions for Permutations.\n",
    "* Memory Usage: 14.2 MB, less than 90.84% of Python3 online submissions for Permutations."
   ]
  },
  {
   "cell_type": "markdown",
   "metadata": {},
   "source": [
    "# 조합\n",
    "* https://leetcode.com/problems/combinations/"
   ]
  },
  {
   "cell_type": "code",
   "execution_count": null,
   "metadata": {},
   "outputs": [],
   "source": [
    "from itertools import combinations\n",
    "\n",
    "class Solution:\n",
    "    def combine(self, n: int, k: int) -> List[List[int]]:\n",
    "        datas = [i for i in range(1, n+1)]\n",
    "        return list( combinations(datas, k) )"
   ]
  },
  {
   "cell_type": "markdown",
   "metadata": {},
   "source": [
    "* Runtime: 88 ms, faster than 88.38% of Python3 online submissions for Combinations.\n",
    "* Memory Usage: 15.8 MB, less than 55.23% of Python3 online submissions for Combinations."
   ]
  },
  {
   "cell_type": "markdown",
   "metadata": {},
   "source": [
    "# 조합의 합\n",
    "* https://leetcode.com/problems/combination-sum/"
   ]
  },
  {
   "cell_type": "code",
   "execution_count": null,
   "metadata": {},
   "outputs": [],
   "source": []
  },
  {
   "cell_type": "markdown",
   "metadata": {},
   "source": [
    "# 부분 집합\n",
    "* https://leetcode.com/problems/subsets/"
   ]
  },
  {
   "cell_type": "code",
   "execution_count": null,
   "metadata": {},
   "outputs": [],
   "source": []
  },
  {
   "cell_type": "markdown",
   "metadata": {},
   "source": [
    "# 일정 재구성\n",
    "* https://leetcode.com/problems/reconstruct-itinerary/"
   ]
  },
  {
   "cell_type": "code",
   "execution_count": null,
   "metadata": {},
   "outputs": [],
   "source": []
  },
  {
   "cell_type": "markdown",
   "metadata": {},
   "source": [
    "# 코스 스케줄\n",
    "* https://leetcode.com/problems/course-schedule/"
   ]
  },
  {
   "cell_type": "code",
   "execution_count": null,
   "metadata": {},
   "outputs": [],
   "source": []
  }
 ],
 "metadata": {
  "kernelspec": {
   "display_name": "Python 3",
   "language": "python",
   "name": "python3"
  },
  "language_info": {
   "codemirror_mode": {
    "name": "ipython",
    "version": 3
   },
   "file_extension": ".py",
   "mimetype": "text/x-python",
   "name": "python",
   "nbconvert_exporter": "python",
   "pygments_lexer": "ipython3",
   "version": "3.7.6"
  }
 },
 "nbformat": 4,
 "nbformat_minor": 4
}
